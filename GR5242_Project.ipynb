{
 "cells": [
  {
   "cell_type": "markdown",
   "metadata": {
    "colab_type": "text",
    "id": "EWX5MHdXICNu"
   },
   "source": [
    "# GR5242 AML Project: VAE for downstream classification\n",
    "\n",
    "Xixi Chen xc2444, Zhengyuan Dong zd2216"
   ]
  },
  {
   "cell_type": "code",
   "execution_count": 0,
   "metadata": {
    "colab": {
     "base_uri": "https://localhost:8080/",
     "height": 34
    },
    "colab_type": "code",
    "id": "iwd4XiOiIHi1",
    "outputId": "0b6f2790-d51c-4dbb-fac5-1806c56b0038"
   },
   "outputs": [
    {
     "name": "stdout",
     "output_type": "stream",
     "text": [
      "TensorFlow 2.x selected.\n"
     ]
    }
   ],
   "source": [
    "from __future__ import absolute_import, division, print_function, unicode_literals\n",
    "\n",
    "try:\n",
    "  # %tensorflow_version only exists in Colab.\n",
    "  %tensorflow_version 2.x\n",
    "except Exception:\n",
    "  pass\n",
    "import tensorflow as tf\n",
    "from tensorflow import keras\n",
    "\n",
    "import os\n",
    "import time\n",
    "import numpy as np\n",
    "import glob\n",
    "import matplotlib.pyplot as plt\n",
    "from IPython import display\n",
    "\n",
    "import numpy as np\n",
    "import tensorflow_probability as tfp\n",
    "import matplotlib.image as mpimg\n",
    "import pandas as pd\n",
    "import seaborn as sns\n"
   ]
  },
  {
   "cell_type": "markdown",
   "metadata": {
    "colab_type": "text",
    "id": "1dUnbXCnIbSJ"
   },
   "source": [
    "## Data Loading And Preprocessing "
   ]
  },
  {
   "cell_type": "markdown",
   "metadata": {
    "colab_type": "text",
    "id": "y-MH8u-L_Dbf"
   },
   "source": [
    "The data we used is Fashion-MNIST, which contains 28$\\times$28 gray-scale images of clothing from 10 classes. There are in total 60,000 training samples and 10,000 testing samples. "
   ]
  },
  {
   "cell_type": "code",
   "execution_count": 0,
   "metadata": {
    "colab": {
     "base_uri": "https://localhost:8080/",
     "height": 153
    },
    "colab_type": "code",
    "id": "UtMCE0zxIVNR",
    "outputId": "3e038b75-6be7-4fb4-e67d-5f42395846b4"
   },
   "outputs": [
    {
     "name": "stdout",
     "output_type": "stream",
     "text": [
      "Downloading data from https://storage.googleapis.com/tensorflow/tf-keras-datasets/train-labels-idx1-ubyte.gz\n",
      "32768/29515 [=================================] - 0s 0us/step\n",
      "Downloading data from https://storage.googleapis.com/tensorflow/tf-keras-datasets/train-images-idx3-ubyte.gz\n",
      "26427392/26421880 [==============================] - 0s 0us/step\n",
      "Downloading data from https://storage.googleapis.com/tensorflow/tf-keras-datasets/t10k-labels-idx1-ubyte.gz\n",
      "8192/5148 [===============================================] - 0s 0us/step\n",
      "Downloading data from https://storage.googleapis.com/tensorflow/tf-keras-datasets/t10k-images-idx3-ubyte.gz\n",
      "4423680/4422102 [==============================] - 0s 0us/step\n"
     ]
    }
   ],
   "source": [
    "fashion_mnist = keras.datasets.fashion_mnist\n",
    "(train_images, train_labels), (test_images, test_labels) = fashion_mnist.load_data()"
   ]
  },
  {
   "cell_type": "code",
   "execution_count": 0,
   "metadata": {
    "colab": {},
    "colab_type": "code",
    "id": "hd8BqbWAMg7t"
   },
   "outputs": [],
   "source": [
    "# Reshape data before using\n",
    "train_images = train_images.reshape(train_images.shape[0], 28, 28, 1).astype('float32')\n",
    "test_images = test_images.reshape(test_images.shape[0], 28, 28, 1).astype('float32')\n",
    "\n",
    "# Normalizing the images to the range of [0., 1.]\n",
    "train_images /= 255.\n",
    "test_images /= 255.\n"
   ]
  },
  {
   "cell_type": "code",
   "execution_count": 0,
   "metadata": {
    "colab": {},
    "colab_type": "code",
    "id": "JPy9QC_pA5Yg"
   },
   "outputs": [],
   "source": [
    "# Use all samples to train vae\n",
    "# so combine test and train samples\n",
    "all_images = np.concatenate((train_images, test_images), axis = 0)"
   ]
  },
  {
   "cell_type": "code",
   "execution_count": 0,
   "metadata": {
    "colab": {},
    "colab_type": "code",
    "id": "I1QgzUKpAxTU"
   },
   "outputs": [],
   "source": [
    "\n",
    "train_buffer = 60000\n",
    "batch_size = 100\n",
    "test_buffer = 10000\n",
    "all_buffer = train_buffer + test_buffer"
   ]
  },
  {
   "cell_type": "code",
   "execution_count": 0,
   "metadata": {
    "colab": {},
    "colab_type": "code",
    "id": "3WvcWqeVBPIn"
   },
   "outputs": [],
   "source": [
    "train_dataset = tf.data.Dataset.from_tensor_slices(train_images).shuffle(train_buffer).batch(batch_size)\n",
    "test_dataset = tf.data.Dataset.from_tensor_slices(test_images).shuffle(test_buffer).batch(batch_size)\n",
    "all_dataset = tf.data.Dataset.from_tensor_slices(all_images).shuffle(all_buffer).batch(batch_size)"
   ]
  },
  {
   "cell_type": "markdown",
   "metadata": {
    "colab_type": "text",
    "id": "4mL7rnmyB4pN"
   },
   "source": [
    "## Implement Variational Auto Encoders"
   ]
  },
  {
   "cell_type": "markdown",
   "metadata": {
    "colab_type": "text",
    "id": "_Zf0yshbDiu2"
   },
   "source": [
    "### Define VAE (Using convolutional neural networks)"
   ]
  },
  {
   "cell_type": "code",
   "execution_count": 0,
   "metadata": {
    "colab": {},
    "colab_type": "code",
    "id": "7Xhapy6dB8ZI"
   },
   "outputs": [],
   "source": [
    "class CVAE(tf.keras.Model):\n",
    "  def __init__(self, latent_dim):\n",
    "    super(CVAE, self).__init__()\n",
    "    self.latent_dim = latent_dim\n",
    "    self.inference_net = tf.keras.Sequential(\n",
    "      [\n",
    "       ### follows convention, convolution -> Pool -> convolution -> Pool -> convolution -> fully connected\n",
    "        tf.keras.layers.InputLayer(input_shape=(28, 28, 1)),\n",
    "        tf.keras.layers.Conv2D(64, (5, 5), strides=(2, 2), padding = 'same', activation='relu'),   \n",
    "        tf.keras.layers.MaxPooling2D((2, 2)),  \n",
    "        tf.keras.layers.Conv2D(64, (5, 5), strides=(1, 1), padding = 'same', activation='relu'),  \n",
    "        tf.keras.layers.MaxPooling2D((2, 2)),  \n",
    "        tf.keras.layers.Conv2D(64, (3, 3), strides=(1, 1), padding = 'same', activation='relu'), \n",
    "        tf.keras.layers.Flatten(),\n",
    "        tf.keras.layers.Dense(64,activation='relu'),\n",
    "        tf.keras.layers.Dropout(0.5),\n",
    "        tf.keras.layers.Dense(latent_dim + latent_dim),\n",
    "      ]\n",
    "    )\n",
    "\n",
    "    self.generative_net= tf.keras.Sequential(\n",
    "        [\n",
    "          tf.keras.layers.InputLayer(input_shape=(latent_dim,)),\n",
    "          tf.keras.layers.Dense(units = 49, activation='relu'),\n",
    "          tf.keras.layers.Dense(units=49, activation='relu'),\n",
    "          tf.keras.layers.Reshape((7, 7, 1)),\n",
    "          tf.keras.layers.Conv2DTranspose(filters=64,kernel_size=3,strides=2,padding=\"SAME\", activation='relu'),\n",
    "          tf.keras.layers.Conv2DTranspose(filters=64,kernel_size=3,strides=1,padding=\"SAME\",activation='relu'),\n",
    "          tf.keras.layers.Conv2DTranspose(filters=64, kernel_size=3, strides=1, padding=\"SAME\", activation='relu'),\n",
    "          tf.keras.layers.Dropout(0.5),\n",
    "          tf.keras.layers.Flatten(),\n",
    "          tf.keras.layers.Dropout(0.5),\n",
    "          tf.keras.layers.Dense(units = 28*28, activation=None),\n",
    "          tf.keras.layers.Reshape(target_shape=( 28, 28, 1))\n",
    "])\n",
    "\n",
    "\n",
    "  @tf.function\n",
    "  def sample(self, eps=None):\n",
    "    if eps is None:\n",
    "      eps = tf.random.normal(shape=(100, self.latent_dim))\n",
    "    return self.decode(eps, apply_sigmoid=True)\n",
    "\n",
    "  def encode(self, x):\n",
    "    gaussian_params = self.inference_net(x)\n",
    "    # The mean parameter is unconstrained\n",
    "    mean = gaussian_params[:, :latent_dim]\n",
    "    # The standard deviation must be positive. Parametrize with a softplus\n",
    "    sigma = tf.nn.softplus(gaussian_params[:, latent_dim:])\n",
    "    return mean, sigma\n",
    "\n",
    "  def reparameterize(self, mean, logvar):\n",
    "    eps = tf.random.normal(shape=mean.shape)\n",
    "    return mean+ tf.multiply(eps, logvar)\n",
    "    \n",
    "\n",
    "  def decode(self, z, apply_sigmoid=False):\n",
    "    logits = self.generative_net(z)\n",
    "    if apply_sigmoid:\n",
    "      probs = tf.sigmoid(logits)\n",
    "      return probs\n",
    "    return logits\n",
    "\n",
    "\n",
    "\n",
    "\n"
   ]
  },
  {
   "cell_type": "markdown",
   "metadata": {
    "colab_type": "text",
    "id": "ZxY_TmBIDm8x"
   },
   "source": [
    "### Define optimizer and loss"
   ]
  },
  {
   "cell_type": "markdown",
   "metadata": {
    "colab_type": "text",
    "id": "CKKTJXZmEKxu"
   },
   "source": [
    "\n",
    "For optimizer, we also tried 'adam' and 'sgd'. 'Adam' and 'RMSprop' have similiar behaviors, but 'sgd' does not work at all. \n",
    "\n",
    "Variational Lower bound: the loss to optimize our VAE can be viewed as the negative log-likelihood with a regularizer. $L_{rec}$ is the reconstruction loss (expected negative log-likelihood), which is estimated by sampling, because it cannot be integrated directly. The term encourages the decoder to reconstruct the data. $L_{KL}$ is KL divergence which measures how much variation is lost. \n",
    "\n",
    "\n",
    "\\begin{align*} \n",
    "L_{VAE} \\ = \\ L_{rec} \\ + \\  L_{KL} \\\\\n",
    "L_{rec} \\ = \\ - \\ E_{q}[\\text{log}p_{\\theta}(x|z)] \\\\\n",
    "L_{KL} \\ = \\ D_{KL}(q_{\\phi}(z|x) \\ ||\\ p_{\\theta}(z|x)) \\ = \\ - \\frac{1}{2} \n",
    "\\sum_{j=1}^{J} (1  +  log((\\sigma_{j}^2)  -  (\\mu_{j})^2 -  (\\sigma_{j}^2), \\\\ \\text{where  J  = no. of  dimensions of  } \\vec{z} \\\\ \n",
    "\\end{align*}\n",
    "\n",
    "\n",
    "We learned the training framework from the 'Convolutional Variational Autoencoder' (https://www.tensorflow.org/tutorials/generative/cvae). We implemented our own inference net, generative net, encode, reparametrize, loss and optimizer."
   ]
  },
  {
   "cell_type": "code",
   "execution_count": 0,
   "metadata": {
    "colab": {},
    "colab_type": "code",
    "id": "w_8oB68jC_QN"
   },
   "outputs": [],
   "source": [
    "optimizer = tf.keras.optimizers.RMSprop(learning_rate=0.001) ## good\n",
    "#optimizer = tf.keras.optimizers.Adam(1e-3) \n",
    "\n",
    "\n",
    "@tf.function\n",
    "def compute_loss(model, x, latent_dim):\n",
    "  q_mu, q_sigma = model.encode(x)\n",
    "  q_z = tfp.distributions.Normal(loc=q_mu, scale=q_sigma) \n",
    "  p_z = tfp.distributions.Normal(loc=np.zeros(latent_dim, dtype=np.float32),scale=np.ones(latent_dim, dtype=np.float32))\n",
    "  p_x_given_z_logits = model.decode(q_z.sample())\n",
    "  p_x_given_z = tfp.distributions.Bernoulli(logits=p_x_given_z_logits) \n",
    "  kl = tf.reduce_sum(tfp.distributions.kl_divergence(q_z, p_z), 1)\n",
    "  expected_log_likelihood = tf.reduce_sum(p_x_given_z.log_prob(x),[1, 2, 3])\n",
    "  elbo = tf.reduce_mean(expected_log_likelihood - kl, 0)\n",
    "  return -elbo \n",
    "\n",
    "@tf.function\n",
    "def compute_apply_gradients(model, x, optimizer, latent_dim):\n",
    "  with tf.GradientTape() as tape:\n",
    "    loss = compute_loss(model, x, latent_dim)\n",
    "  gradients = tape.gradient(loss, model.trainable_variables)\n",
    "  optimizer.apply_gradients(zip(gradients, model.trainable_variables))\n",
    "\n",
    "\n",
    "\n"
   ]
  },
  {
   "cell_type": "markdown",
   "metadata": {
    "colab_type": "text",
    "id": "vT07aWrDFIW4"
   },
   "source": [
    "### Training"
   ]
  },
  {
   "cell_type": "code",
   "execution_count": 0,
   "metadata": {
    "colab": {},
    "colab_type": "code",
    "id": "ob7z9lcJEJbe"
   },
   "outputs": [],
   "source": [
    "epochs = 10\n",
    "latent_dim = 4\n",
    "model = CVAE(latent_dim)"
   ]
  },
  {
   "cell_type": "markdown",
   "metadata": {
    "colab_type": "text",
    "id": "P3tTKUYJbXyC"
   },
   "source": [
    "###### Encoder"
   ]
  },
  {
   "cell_type": "code",
   "execution_count": 0,
   "metadata": {
    "colab": {
     "base_uri": "https://localhost:8080/",
     "height": 459
    },
    "colab_type": "code",
    "id": "KBRt86K5bTPG",
    "outputId": "fd8a2b5f-96c5-4afc-85d9-acd79dadadcf"
   },
   "outputs": [
    {
     "name": "stdout",
     "output_type": "stream",
     "text": [
      "Model: \"sequential\"\n",
      "_________________________________________________________________\n",
      "Layer (type)                 Output Shape              Param #   \n",
      "=================================================================\n",
      "conv2d (Conv2D)              (None, 14, 14, 64)        1664      \n",
      "_________________________________________________________________\n",
      "max_pooling2d (MaxPooling2D) (None, 7, 7, 64)          0         \n",
      "_________________________________________________________________\n",
      "conv2d_1 (Conv2D)            (None, 7, 7, 64)          102464    \n",
      "_________________________________________________________________\n",
      "max_pooling2d_1 (MaxPooling2 (None, 3, 3, 64)          0         \n",
      "_________________________________________________________________\n",
      "conv2d_2 (Conv2D)            (None, 3, 3, 64)          36928     \n",
      "_________________________________________________________________\n",
      "flatten (Flatten)            (None, 576)               0         \n",
      "_________________________________________________________________\n",
      "dense (Dense)                (None, 64)                36928     \n",
      "_________________________________________________________________\n",
      "dropout (Dropout)            (None, 64)                0         \n",
      "_________________________________________________________________\n",
      "dense_1 (Dense)              (None, 8)                 520       \n",
      "=================================================================\n",
      "Total params: 178,504\n",
      "Trainable params: 178,504\n",
      "Non-trainable params: 0\n",
      "_________________________________________________________________\n"
     ]
    }
   ],
   "source": [
    "model.inference_net.summary()"
   ]
  },
  {
   "cell_type": "markdown",
   "metadata": {
    "colab_type": "text",
    "id": "DsNaGqEYIEL_"
   },
   "source": [
    "Above is our CNN structure for encoder."
   ]
  },
  {
   "cell_type": "markdown",
   "metadata": {
    "colab_type": "text",
    "id": "NXkO-vzC3DvP"
   },
   "source": [
    "###### Decoder"
   ]
  },
  {
   "cell_type": "code",
   "execution_count": 0,
   "metadata": {
    "colab": {
     "base_uri": "https://localhost:8080/",
     "height": 527
    },
    "colab_type": "code",
    "id": "TFNQ6Qbv29ve",
    "outputId": "cf762b71-7b91-4b54-cbc2-9220e7b4d407"
   },
   "outputs": [
    {
     "name": "stdout",
     "output_type": "stream",
     "text": [
      "Model: \"sequential_1\"\n",
      "_________________________________________________________________\n",
      "Layer (type)                 Output Shape              Param #   \n",
      "=================================================================\n",
      "dense_2 (Dense)              (None, 49)                245       \n",
      "_________________________________________________________________\n",
      "dense_3 (Dense)              (None, 49)                2450      \n",
      "_________________________________________________________________\n",
      "reshape (Reshape)            (None, 7, 7, 1)           0         \n",
      "_________________________________________________________________\n",
      "conv2d_transpose (Conv2DTran (None, 14, 14, 64)        640       \n",
      "_________________________________________________________________\n",
      "conv2d_transpose_1 (Conv2DTr (None, 14, 14, 64)        36928     \n",
      "_________________________________________________________________\n",
      "conv2d_transpose_2 (Conv2DTr (None, 14, 14, 64)        36928     \n",
      "_________________________________________________________________\n",
      "dropout_1 (Dropout)          (None, 14, 14, 64)        0         \n",
      "_________________________________________________________________\n",
      "flatten_1 (Flatten)          (None, 12544)             0         \n",
      "_________________________________________________________________\n",
      "dropout_2 (Dropout)          (None, 12544)             0         \n",
      "_________________________________________________________________\n",
      "dense_4 (Dense)              (None, 784)               9835280   \n",
      "_________________________________________________________________\n",
      "reshape_1 (Reshape)          (None, 28, 28, 1)         0         \n",
      "=================================================================\n",
      "Total params: 9,912,471\n",
      "Trainable params: 9,912,471\n",
      "Non-trainable params: 0\n",
      "_________________________________________________________________\n"
     ]
    }
   ],
   "source": [
    "model.generative_net.summary()"
   ]
  },
  {
   "cell_type": "markdown",
   "metadata": {
    "colab_type": "text",
    "id": "6a1_TwLgIJ3V"
   },
   "source": [
    "Above is our CNN structure for decoder."
   ]
  },
  {
   "cell_type": "code",
   "execution_count": 0,
   "metadata": {
    "colab": {},
    "colab_type": "code",
    "id": "70dEBQKOFNIq"
   },
   "outputs": [],
   "source": [
    "def generate_and_save_images(model, epoch, test_input):\n",
    "  predictions = model.sample(test_input)\n",
    "  fig = plt.figure(figsize=(4,4))\n",
    "\n",
    "  for i in range(predictions.shape[0]):\n",
    "      plt.subplot(4, 4, i+1)\n",
    "      plt.imshow(predictions[i, :, :, 0], cmap='gray')\n",
    "      plt.axis('off')\n",
    "  plt.show()"
   ]
  },
  {
   "cell_type": "code",
   "execution_count": 0,
   "metadata": {
    "colab": {
     "base_uri": "https://localhost:8080/",
     "height": 265
    },
    "colab_type": "code",
    "id": "djIm_TuXFYpC",
    "outputId": "00545a46-4160-4e31-c9e9-7a62cbfa8c25"
   },
   "outputs": [
    {
     "name": "stdout",
     "output_type": "stream",
     "text": [
      "Epoch: 10, Test set ELBO: -245.04061889648438, time elapse for current epoch 5.637253046035767\n"
     ]
    },
    {
     "data": {
      "image/png": "[encoded data removed]",
      "text/plain": [
       "<Figure size 288x288 with 16 Axes>"
      ]
     },
     "metadata": {
      "tags": []
     },
     "output_type": "display_data"
    }
   ],
   "source": [
    "## Training VAE and plot reconstructed images\n",
    "\n",
    "for epoch in range(1, epochs + 1):\n",
    "  start_time = time.time()\n",
    "  for x in all_dataset:\n",
    "    compute_apply_gradients(model, x, optimizer, latent_dim)\n",
    "  end_time = time.time()\n",
    "\n",
    "  if epoch % 1 == 0:\n",
    "    loss = tf.keras.metrics.Mean()\n",
    "    for test_x in test_dataset:\n",
    "      loss(compute_loss(model, test_x, latent_dim))\n",
    "    elbo = -loss.result()\n",
    "    display.clear_output(wait=False)\n",
    "    print('Epoch: {}, Test set ELBO: {}, '\n",
    "          'time elapse for current epoch {}'.format(epoch,\n",
    "                                                    elbo,\n",
    "                                                    end_time - start_time))\n",
    "    mu, sigma = model.encode(x)\n",
    "    z = model.reparameterize(mu, sigma)\n",
    "\n",
    "    generate_and_save_images(model, epoch, z[0:16])\n",
    "\n",
    "\n"
   ]
  },
  {
   "cell_type": "markdown",
   "metadata": {
    "colab_type": "text",
    "id": "9nnOd7wt9nQD"
   },
   "source": [
    "We trained VAE with 4 latent dimensions using all samples in MNIST Fashion. Above are 16 reconstructed images. "
   ]
  },
  {
   "cell_type": "markdown",
   "metadata": {
    "colab_type": "text",
    "id": "JofdvCR_nTIY"
   },
   "source": [
    "# Visualizing in 2-D Latent Space"
   ]
  },
  {
   "cell_type": "code",
   "execution_count": 0,
   "metadata": {
    "colab": {},
    "colab_type": "code",
    "id": "hOcFUthPncmw"
   },
   "outputs": [],
   "source": [
    "# Train vae for 2d \n",
    "optimizer = tf.keras.optimizers.RMSprop(learning_rate=0.001)\n",
    "@tf.function\n",
    "def compute_loss(model, x, latent_dim):\n",
    "  q_mu, q_sigma = model.encode(x)\n",
    "  q_z = tfp.distributions.Normal(loc=q_mu, scale=q_sigma) \n",
    "  p_z = tfp.distributions.Normal(loc=np.zeros(latent_dim, dtype=np.float32),scale=np.ones(latent_dim, dtype=np.float32))\n",
    "  p_x_given_z_logits = model.decode(q_z.sample())\n",
    "  p_x_given_z = tfp.distributions.Bernoulli(logits=p_x_given_z_logits) \n",
    "  kl = tf.reduce_sum(tfp.distributions.kl_divergence(q_z, p_z), 1)\n",
    "  expected_log_likelihood = tf.reduce_sum(p_x_given_z.log_prob(x),[1, 2, 3])\n",
    "  elbo = tf.reduce_mean(expected_log_likelihood - kl, 0)\n",
    "  return -elbo \n",
    "\n",
    "@tf.function\n",
    "def compute_apply_gradients(model, x, optimizer, latent_dim):\n",
    "  with tf.GradientTape() as tape:\n",
    "    loss = compute_loss(model, x, latent_dim)\n",
    "  gradients = tape.gradient(loss, model.trainable_variables)\n",
    "  optimizer.apply_gradients(zip(gradients, model.trainable_variables))\n",
    "\n",
    "epochs = 10\n",
    "latent_dim = 2\n",
    "model = CVAE(latent_dim)\n",
    "\n",
    "for epoch in range(1, epochs + 1):\n",
    "  for x in all_dataset:\n",
    "    compute_apply_gradients(model, x, optimizer, latent_dim)\n",
    "\n",
    "\n"
   ]
  },
  {
   "cell_type": "code",
   "execution_count": 0,
   "metadata": {
    "colab": {},
    "colab_type": "code",
    "id": "Lfb01UaSoXXd"
   },
   "outputs": [],
   "source": [
    "# preparing for visualization\n",
    "mu, sigma = model.encode(train_images[:5000])\n",
    "z = model.reparameterize(mu, sigma)\n",
    "data = np.column_stack((z, train_labels[:5000]))\n",
    "df = pd.DataFrame(data)\n",
    "df[2] = df[2].astype('str')\n",
    "label_des = {'0.0':'T-shirt/top', '1.0':'Trouser', '2.0':\t'Pullover', '3.0':'Dress', '4.0':'Coat','5.0':'Sandal','6.0':'Shirt', '7.0':'Sneaker',\n",
    "'8.0':'Bag', '9.0':'Ankle boot'}\n",
    "df.columns = ['x', 'y', 'label']\n",
    "df['label'] = df['label'].map(label_des)"
   ]
  },
  {
   "cell_type": "code",
   "execution_count": 0,
   "metadata": {
    "colab": {
     "base_uri": "https://localhost:8080/",
     "height": 513
    },
    "colab_type": "code",
    "id": "ldF3dqFFoq24",
    "outputId": "94d98629-b1fb-4892-eb58-2a3b2d29a424"
   },
   "outputs": [
    {
     "data": {
      "image/png": "[encoded data removed]",
      "text/plain": [
       "<Figure size 542.85x504 with 1 Axes>"
      ]
     },
     "metadata": {
      "tags": []
     },
     "output_type": "display_data"
    }
   ],
   "source": [
    "sns_plot = sns.lmplot( x='x', y='y', data=df, fit_reg=False, hue='label', legend=True, height=7, aspect=0.9)\n",
    "sns_plot.savefig('2D.png')"
   ]
  },
  {
   "cell_type": "markdown",
   "metadata": {
    "colab_type": "text",
    "id": "aell6neM3cLn"
   },
   "source": [
    "Above is a scatter plot for 5000 training samples using VAE with latent dimension 2. Note that with only 2 dimensions, the clusters have severe overlaps between \"pullover\" and \"coat\", \"t-shirt/top\" and \"shirt\". "
   ]
  },
  {
   "cell_type": "markdown",
   "metadata": {
    "colab_type": "text",
    "id": "Om9xA3p_u8Ns"
   },
   "source": [
    "# Images for different latent dim"
   ]
  },
  {
   "cell_type": "markdown",
   "metadata": {
    "colab_type": "text",
    "id": "aWoL3lb_JxDz"
   },
   "source": [
    "We generate reconstructed images for different latent dimensions to check if VAE performs well."
   ]
  },
  {
   "cell_type": "code",
   "execution_count": 0,
   "metadata": {
    "colab": {
     "base_uri": "https://localhost:8080/",
     "height": 315
    },
    "colab_type": "code",
    "id": "XW4EJl7tT2Hj",
    "outputId": "a74d8aa2-909d-4e9b-81a8-7a17249a277b"
   },
   "outputs": [
    {
     "data": {
      "image/png": "[encoded data removed]",
      "text/plain": [
       "<Figure size 432x288 with 10 Axes>"
      ]
     },
     "metadata": {
      "tags": []
     },
     "output_type": "display_data"
    }
   ],
   "source": [
    "## Orignial\n",
    "fig = plt.figure()\n",
    "for i in range(10):\n",
    "    plt.subplot(5,2,i+1)\n",
    "    plt.axis('off')\n",
    "    plt.imshow(train_images[i, :, :, 0], cmap='gray')\n",
    "plt.subplots_adjust(wspace=0, hspace=0, left=0, right=0.25, bottom=0, top=1)\n",
    "plt.show()\n",
    "fig.savefig('Original',bbox_inches='tight')\n"
   ]
  },
  {
   "cell_type": "code",
   "execution_count": 0,
   "metadata": {
    "colab": {},
    "colab_type": "code",
    "id": "bKT736gkUTcq"
   },
   "outputs": [],
   "source": [
    "## Dim: 2, 4, 25\n",
    "dim = [2, 4, 25]\n",
    "for d in dim:\n",
    "  optimizer = tf.keras.optimizers.RMSprop(learning_rate=0.001)\n",
    "  @tf.function\n",
    "  def compute_loss(model, x, latent_dim):\n",
    "    q_mu, q_sigma = model.encode(x)\n",
    "    q_z = tfp.distributions.Normal(loc=q_mu, scale=q_sigma) \n",
    "    p_z = tfp.distributions.Normal(loc=np.zeros(latent_dim, dtype=np.float32),scale=np.ones(latent_dim, dtype=np.float32))\n",
    "    p_x_given_z_logits = model.decode(q_z.sample())\n",
    "    p_x_given_z = tfp.distributions.Bernoulli(logits=p_x_given_z_logits) \n",
    "    kl = tf.reduce_sum(tfp.distributions.kl_divergence(q_z, p_z), 1)\n",
    "    expected_log_likelihood = tf.reduce_sum(p_x_given_z.log_prob(x),[1, 2, 3])\n",
    "    elbo = tf.reduce_mean(expected_log_likelihood - kl, 0)\n",
    "    return -elbo \n",
    "\n",
    "  @tf.function\n",
    "  def compute_apply_gradients(model, x, optimizer, latent_dim):\n",
    "    with tf.GradientTape() as tape:\n",
    "      loss = compute_loss(model, x, latent_dim)\n",
    "    gradients = tape.gradient(loss, model.trainable_variables)\n",
    "    optimizer.apply_gradients(zip(gradients, model.trainable_variables))\n",
    "\n",
    "  epochs = 10\n",
    "  latent_dim = d\n",
    "  model = CVAE(latent_dim)\n",
    "\n",
    "  for epoch in range(1, epochs + 1):\n",
    "    for x in all_dataset:\n",
    "      compute_apply_gradients(model, x, optimizer, latent_dim)\n",
    "\n",
    "  mu, sigma = model.encode(train_images[0:16])\n",
    "  z = model.reparameterize(mu, sigma)\n",
    "  reconstructed_images = model.decode(z, apply_sigmoid=True)\n",
    "\n",
    "  fig = plt.figure()\n",
    "  for i in range(10):\n",
    "    plt.subplot(5,2,i+1)\n",
    "    plt.axis('off')\n",
    "    plt.imshow(reconstructed_images[i, :, :, 0], cmap='gray')\n",
    "  plt.subplots_adjust(wspace=0, hspace=0, left=0, right=0.25, bottom=0, top=1)\n",
    "  plt.show()\n",
    "  fig.savefig('dim_' + str(d), bbox_inches='tight')\n"
   ]
  },
  {
   "cell_type": "markdown",
   "metadata": {
    "colab_type": "text",
    "id": "X81RbcqQfdXD"
   },
   "source": [
    "The first 10 reconstructed images are shown below. We can see that with only 2 latent dimensions, the sneaker in (row 1, col 1) looks like an ankle boot, and the dress in (row 2, col 2) looks like T-shirt. Hence, dimension 2 is not sufficient. Reconstructed images with higher latent dimensions like 4 and 25 become more distinguishable. However, they are sill not able to capture the details for clothing, such as logos and stripes, which indicates VAE may be good for classification but it is not a powerful generative model."
   ]
  },
  {
   "cell_type": "code",
   "execution_count": 0,
   "metadata": {
    "colab": {
     "base_uri": "https://localhost:8080/",
     "height": 343
    },
    "colab_type": "code",
    "id": "x3-moCi8XNau",
    "outputId": "480da947-3fab-4a4f-d3de-7c93792a1ed9"
   },
   "outputs": [
    {
     "data": {
      "image/png": "[encoded data removed]",
      "text/plain": [
       "<Figure size 720x720 with 4 Axes>"
      ]
     },
     "metadata": {
      "tags": []
     },
     "output_type": "display_data"
    }
   ],
   "source": [
    "# Orignal images and Reconstructed images for dim 2, 4, 25\n",
    "fig = plt.figure(figsize=(10,10))\n",
    "img1=mpimg.imread('Original.png')\n",
    "img2=mpimg.imread('dim_2.png')\n",
    "img3=mpimg.imread('dim_4.png')\n",
    "img4=mpimg.imread('dim_25.png')\n",
    "img = [img1, img2, img3, img4]\n",
    "t = ['Orignal', 'dim=2', 'dim=4', 'dim=25']\n",
    "\n",
    "for i in range(4):\n",
    "    plt.subplot(1, 4, i+1)\n",
    "    plt.axis('off')\n",
    "    plt.title(t[i])\n",
    "    plt.imshow(img[i])\n",
    "fig.savefig('img_all', bbox_inches='tight')"
   ]
  },
  {
   "cell_type": "markdown",
   "metadata": {
    "colab_type": "text",
    "id": "_-FC0pRHc7sE"
   },
   "source": [
    "# Latent Dimension Choosing "
   ]
  },
  {
   "cell_type": "markdown",
   "metadata": {
    "colab_type": "text",
    "id": "w3tFkA_Mdn4m"
   },
   "source": [
    "The reconstructed images above show that 4 seems to be a good choice for latent dimension of VAE. We verify this by tuning the latent dimension and comparing the classification test accuracy. Note here we only used 100 samples to train our classifiers because we expect VAE may be superior in small dimensions. "
   ]
  },
  {
   "cell_type": "code",
   "execution_count": 0,
   "metadata": {
    "colab": {},
    "colab_type": "code",
    "id": "6Ru_Pfh60lXv"
   },
   "outputs": [],
   "source": [
    "dim = [4, 9, 16, 25]\n",
    "logistic_accuracy = np.zeros(4)\n",
    "cnn_accuracy = np.zeros(4)\n",
    "for i in range(len(dim)):\n",
    "  optimizer = tf.keras.optimizers.RMSprop(learning_rate=0.001)\n",
    "  @tf.function\n",
    "  def compute_loss(model, x, latent_dim):\n",
    "    q_mu, q_sigma = model.encode(x)\n",
    "    q_z = tfp.distributions.Normal(loc=q_mu, scale=q_sigma) \n",
    "    p_z = tfp.distributions.Normal(loc=np.zeros(latent_dim, dtype=np.float32),scale=np.ones(latent_dim, dtype=np.float32))\n",
    "    p_x_given_z_logits = model.decode(q_z.sample())\n",
    "    p_x_given_z = tfp.distributions.Bernoulli(logits=p_x_given_z_logits) \n",
    "    kl = tf.reduce_sum(tfp.distributions.kl_divergence(q_z, p_z), 1)\n",
    "    expected_log_likelihood = tf.reduce_sum(p_x_given_z.log_prob(x),[1, 2, 3])\n",
    "    elbo = tf.reduce_mean(expected_log_likelihood - kl, 0)\n",
    "    return -elbo \n",
    "\n",
    "  @tf.function\n",
    "  def compute_apply_gradients(model, x, optimizer, latent_dim):\n",
    "    with tf.GradientTape() as tape:\n",
    "      loss = compute_loss(model, x, latent_dim)\n",
    "    gradients = tape.gradient(loss, model.trainable_variables)\n",
    "    optimizer.apply_gradients(zip(gradients, model.trainable_variables))\n",
    "\n",
    "  epochs = 10\n",
    "  latent_dim = dim[i]\n",
    "  model = CVAE(latent_dim)\n",
    "\n",
    "  for epoch in range(1, epochs + 1):\n",
    "    for x in all_dataset:\n",
    "      compute_apply_gradients(model, x, optimizer, latent_dim)\n",
    "  \n",
    "  ##using vae to get latent variable z (training)\n",
    "  mu, sigma = model.encode(train_images[:100])\n",
    "  z_latent = model.reparameterize(mu, sigma)\n",
    "\n",
    "  ## get the latent variables for test_images\n",
    "  mu, sigma = model.encode(test_images)\n",
    "  test_latent = model.reparameterize(mu, sigma)\n",
    " \n",
    "  ## feed z into classifiers to do classification\n",
    "  ### logistic:\n",
    "  logistic = tf.keras.Sequential([\n",
    "     tf.keras.layers.InputLayer(input_shape=(latent_dim)),\n",
    "     # softmax of x is calculated by exp(x)/tf.reduce_sum(exp(x)).\n",
    "     tf.keras.layers.Dense(10, activation='softmax'),\n",
    "    ])\n",
    "  \n",
    "  logistic.compile(optimizer='sgd',\n",
    "                loss='sparse_categorical_crossentropy',\n",
    "                metrics=['sparse_categorical_accuracy'])\n",
    "  logistic.fit(z_latent, train_labels[:100], epochs=300, verbose=0) \n",
    "  logistic_accuracy[i] = logistic.evaluate(test_latent, test_labels, verbose = 0 )[1]\n",
    "  \n",
    "  ### cnn:\n",
    "  # reshape z \n",
    "  reshape_dim1 = int(np.sqrt(latent_dim))\n",
    "  reshape_dim2 = int(np.sqrt(latent_dim))\n",
    "  z_2= tf.reshape(z_latent, [z_latent.shape[0], reshape_dim1, reshape_dim2, 1])\n",
    "  ## reshape test\n",
    "  test_latent_reshaped=tf.reshape(test_latent, [test_latent.shape[0], reshape_dim1, reshape_dim2, 1])\n",
    "\n",
    "  cnn_model = tf.keras.Sequential([\n",
    "                tf.keras.layers.InputLayer(input_shape=(reshape_dim1, reshape_dim2, 1)),\n",
    "                 # one convolution layer\n",
    "               tf.keras.layers.Conv2D(filters=1024, kernel_size=2, strides=2, activation='relu'),\n",
    "              # fully connected\n",
    "              tf.keras.layers.Flatten(),\n",
    "          tf.keras.layers.Dense(10, activation='softmax')\n",
    "  ])\n",
    "\n",
    "  cnn_model.compile(optimizer='adam',\n",
    "                loss='sparse_categorical_crossentropy',\n",
    "                metrics=['sparse_categorical_accuracy']\n",
    "                )\n",
    "  cnn_model.fit(z_2, train_labels[:100], epochs=150, verbose=0) \n",
    "  cnn_accuracy[i] = cnn_model.evaluate(test_latent_reshaped, test_labels, verbose = 0 )[1]\n",
    "  #print(\"latent_dim \" + str(dim[i]) + \": \", logistic_accuracy[i], cnn_accuracy[i])"
   ]
  },
  {
   "cell_type": "code",
   "execution_count": 0,
   "metadata": {
    "colab": {
     "base_uri": "https://localhost:8080/",
     "height": 173
    },
    "colab_type": "code",
    "id": "WREpK90iKuEf",
    "outputId": "2e1d76e5-c6c0-4574-cd40-6e6f70539509"
   },
   "outputs": [
    {
     "data": {
      "text/html": [
       "<div>\n",
       "<style scoped>\n",
       "    .dataframe tbody tr th:only-of-type {\n",
       "        vertical-align: middle;\n",
       "    }\n",
       "\n",
       "    .dataframe tbody tr th {\n",
       "        vertical-align: top;\n",
       "    }\n",
       "\n",
       "    .dataframe thead th {\n",
       "        text-align: right;\n",
       "    }\n",
       "</style>\n",
       "<table border=\"1\" class=\"dataframe\">\n",
       "  <thead>\n",
       "    <tr style=\"text-align: right;\">\n",
       "      <th></th>\n",
       "      <th>Latent_dimension</th>\n",
       "      <th>Logistic_accuracy</th>\n",
       "      <th>cnn_accuracy</th>\n",
       "    </tr>\n",
       "  </thead>\n",
       "  <tbody>\n",
       "    <tr>\n",
       "      <th>0</th>\n",
       "      <td>4</td>\n",
       "      <td>0.5744</td>\n",
       "      <td>0.6389</td>\n",
       "    </tr>\n",
       "    <tr>\n",
       "      <th>1</th>\n",
       "      <td>9</td>\n",
       "      <td>0.5428</td>\n",
       "      <td>0.5336</td>\n",
       "    </tr>\n",
       "    <tr>\n",
       "      <th>2</th>\n",
       "      <td>16</td>\n",
       "      <td>0.5009</td>\n",
       "      <td>0.5257</td>\n",
       "    </tr>\n",
       "    <tr>\n",
       "      <th>3</th>\n",
       "      <td>25</td>\n",
       "      <td>0.3853</td>\n",
       "      <td>0.1998</td>\n",
       "    </tr>\n",
       "  </tbody>\n",
       "</table>\n",
       "</div>"
      ],
      "text/plain": [
       "   Latent_dimension  Logistic_accuracy  cnn_accuracy\n",
       "0                 4             0.5744        0.6389\n",
       "1                 9             0.5428        0.5336\n",
       "2                16             0.5009        0.5257\n",
       "3                25             0.3853        0.1998"
      ]
     },
     "execution_count": 18,
     "metadata": {
      "tags": []
     },
     "output_type": "execute_result"
    }
   ],
   "source": [
    "  data = {'Latent_dimension' : dim, 'Logistic_accuracy':logistic_accuracy, 'cnn_accuracy': cnn_accuracy}\n",
    "  latent_dim_table = pd.DataFrame(data)\n",
    "  latent_dim_table\n",
    "  "
   ]
  },
  {
   "cell_type": "markdown",
   "metadata": {
    "colab_type": "text",
    "id": "W_b95i2DO6_u"
   },
   "source": [
    "Table above shows that as the latent dimension increases, the test accuracy for both logistics and CNN decreases. Thus, dimension 4 is already sufficient for both image reconstruction and classification, which is a big compression of data."
   ]
  },
  {
   "cell_type": "markdown",
   "metadata": {
    "colab_type": "text",
    "id": "1RGjwGe74vbA"
   },
   "source": [
    "# Accuracy vs training samples"
   ]
  },
  {
   "cell_type": "markdown",
   "metadata": {
    "colab_type": "text",
    "id": "x1rZqgoJGLkG"
   },
   "source": [
    "We kept our trained 4 latent dimension VAE fixed, and obtained latent variables from VAE. We used these latent variables as inputs for logistic regression and simple CNN. We also implemented a multilayer CNN using orignial data. We then compared the classification results for small and large samples for these three methods, i.e. VAE + logistic regression, VAE + simple CNN, and multilayer CNN."
   ]
  },
  {
   "cell_type": "code",
   "execution_count": 0,
   "metadata": {
    "colab": {},
    "colab_type": "code",
    "id": "PR7k5XvN4wH-"
   },
   "outputs": [],
   "source": [
    "\n",
    "def acc_samples(sample_num, classifier='simple cnn'):\n",
    "    # random shuffle the data to get a sample of training data\n",
    "    idxs = tf.range(tf.shape(train_images)[0])\n",
    "    ridxs = tf.random.shuffle(idxs)[:sample_num]\n",
    "    train_images_sub = tf.gather(train_images, ridxs)\n",
    "    train_labels_sub = tf.gather(train_labels, ridxs)\n",
    "\n",
    "    mu, sigma = model.encode(train_images_sub)\n",
    "    z_latent = model.reparameterize(mu, sigma)\n",
    "\n",
    "    mu_test, sigma_test = model.encode(test_images)\n",
    "    test_latent = model.reparameterize(mu_test, sigma_test)\n",
    "\n",
    "\n",
    "    if classifier == 'logistic':\n",
    "        logistic = tf.keras.Sequential([\n",
    "            tf.keras.layers.InputLayer(input_shape=(latent_dim)),\n",
    "            # softmax of x is calculated by exp(x)/tf.reduce_sum(exp(x)).\n",
    "            tf.keras.layers.Dense(10, activation='softmax'),\n",
    "            ])\n",
    "\n",
    "        # model compile \n",
    "        logistic.compile(optimizer='sgd',\n",
    "                    loss='sparse_categorical_crossentropy',\n",
    "                    metrics=['sparse_categorical_accuracy']\n",
    "                    )\n",
    "        \n",
    "        history = logistic.fit(z_latent, train_labels_sub, epochs=300, verbose=0)\n",
    "        training_acc = history.history['sparse_categorical_accuracy'][-1]\n",
    "\n",
    "        loss, test_acc = logistic.evaluate(test_latent, test_labels, verbose=0)\n",
    "\n",
    "    elif classifier == 'simple cnn':\n",
    "        reshape_dim1 = reshape_dim2 = 2\n",
    "        z_2 = tf.reshape(z_latent, [z_latent.shape[0], reshape_dim1, reshape_dim2, 1])\n",
    "        cnn_model = tf.keras.Sequential([\n",
    "                tf.keras.layers.InputLayer(input_shape=(reshape_dim1, reshape_dim2, 1)),\n",
    "                # one convolution layer\n",
    "                tf.keras.layers.Conv2D(filters=1024, kernel_size=2, strides=2, activation='relu'),\n",
    "                # fully connected\n",
    "                tf.keras.layers.Flatten(),\n",
    "                tf.keras.layers.Dense(10, activation='softmax')\n",
    "        ])\n",
    "\n",
    "        # model compile \n",
    "        cnn_model.compile(optimizer='adam',\n",
    "                    loss='sparse_categorical_crossentropy',\n",
    "                    metrics=['sparse_categorical_accuracy']\n",
    "                    )\n",
    "        \n",
    "        history = cnn_model.fit(z_2, train_labels_sub, epochs=150, verbose=0) \n",
    "        training_acc = history.history['sparse_categorical_accuracy'][-1]\n",
    "\n",
    "        test_latent=tf.reshape(test_latent, [test_latent.shape[0], reshape_dim1, reshape_dim2, 1])\n",
    "        loss, test_acc = cnn_model.evaluate(test_latent, test_labels, verbose=0)\n",
    "\n",
    "    elif classifier == 'multi-layer cnn':\n",
    "        model_3 = tf.keras.Sequential([\n",
    "            tf.keras.layers.InputLayer(input_shape=(28, 28, 1)),\n",
    "            tf.keras.layers.Conv2D(64, (5, 5), padding = 'same', activation='relu'),   \n",
    "            tf.keras.layers.MaxPooling2D((2, 2)),  \n",
    "            tf.keras.layers.Conv2D(32, (3, 3), padding = 'same', activation='relu'),  \n",
    "            tf.keras.layers.MaxPooling2D((2, 2)),  \n",
    "            tf.keras.layers.Flatten(),\n",
    "            tf.keras.layers.Dense(256, activation='relu'),\n",
    "            tf.keras.layers.Dropout(0.2),\n",
    "            tf.keras.layers.Dense(10, activation='softmax')\n",
    "        ])\n",
    "\n",
    "        model_3.compile(optimizer='adam',\n",
    "                        loss='sparse_categorical_crossentropy',\n",
    "                        metrics=['sparse_categorical_accuracy']\n",
    "                        )\n",
    "        \n",
    "        history = model_3.fit(train_images_sub, train_labels_sub, batch_size=100, epochs=100, verbose=0) \n",
    "        training_acc = history.history['sparse_categorical_accuracy'][-1]\n",
    "\n",
    "        loss, test_acc = model_3.evaluate(test_images, test_labels, verbose=0)\n",
    "        \n",
    "    else:\n",
    "        raise ValueError('Invalid input!')\n",
    "    \n",
    "    return test_acc"
   ]
  },
  {
   "cell_type": "code",
   "execution_count": 0,
   "metadata": {
    "colab": {},
    "colab_type": "code",
    "id": "y3JndX1d41Ws"
   },
   "outputs": [],
   "source": [
    "sample_num_ls = [100, 1000, 2000, 5000, 10000, 20000, 50000]\n",
    "# sample_num_ls = [100]\n",
    "models_ls= ['logistic', 'simple cnn', 'multi-layer cnn']"
   ]
  },
  {
   "cell_type": "code",
   "execution_count": 0,
   "metadata": {
    "colab": {},
    "colab_type": "code",
    "id": "-32Dm_fp5M4w"
   },
   "outputs": [],
   "source": [
    "res = [[0 for i in range(len(models_ls))] for j in range(len(sample_num_ls))]\n",
    "\n",
    "for i in range(len(models_ls)):\n",
    "    candidate = models_ls[i]\n",
    "    for j in range(len(sample_num_ls)):\n",
    "        sample_num = sample_num_ls[j]\n",
    "        res[j][i] = acc_samples(sample_num, classifier=candidate)\n"
   ]
  },
  {
   "cell_type": "code",
   "execution_count": 0,
   "metadata": {
    "colab": {
     "base_uri": "https://localhost:8080/",
     "height": 266
    },
    "colab_type": "code",
    "id": "dAslQ9r75O-D",
    "outputId": "f9c295d1-dd3a-4cc2-8ab1-b140f44da292"
   },
   "outputs": [
    {
     "data": {
      "text/html": [
       "<div>\n",
       "<style scoped>\n",
       "    .dataframe tbody tr th:only-of-type {\n",
       "        vertical-align: middle;\n",
       "    }\n",
       "\n",
       "    .dataframe tbody tr th {\n",
       "        vertical-align: top;\n",
       "    }\n",
       "\n",
       "    .dataframe thead th {\n",
       "        text-align: right;\n",
       "    }\n",
       "</style>\n",
       "<table border=\"1\" class=\"dataframe\">\n",
       "  <thead>\n",
       "    <tr style=\"text-align: right;\">\n",
       "      <th></th>\n",
       "      <th>Num of Training Samples</th>\n",
       "      <th>VAE+logistic</th>\n",
       "      <th>VAE+CNN</th>\n",
       "      <th>Multi-layer CNN</th>\n",
       "    </tr>\n",
       "  </thead>\n",
       "  <tbody>\n",
       "    <tr>\n",
       "      <th>0</th>\n",
       "      <td>100</td>\n",
       "      <td>0.5805</td>\n",
       "      <td>0.6382</td>\n",
       "      <td>0.6950</td>\n",
       "    </tr>\n",
       "    <tr>\n",
       "      <th>1</th>\n",
       "      <td>1000</td>\n",
       "      <td>0.6999</td>\n",
       "      <td>0.7678</td>\n",
       "      <td>0.8348</td>\n",
       "    </tr>\n",
       "    <tr>\n",
       "      <th>2</th>\n",
       "      <td>2000</td>\n",
       "      <td>0.7042</td>\n",
       "      <td>0.7914</td>\n",
       "      <td>0.8482</td>\n",
       "    </tr>\n",
       "    <tr>\n",
       "      <th>3</th>\n",
       "      <td>5000</td>\n",
       "      <td>0.7165</td>\n",
       "      <td>0.7876</td>\n",
       "      <td>0.8683</td>\n",
       "    </tr>\n",
       "    <tr>\n",
       "      <th>4</th>\n",
       "      <td>10000</td>\n",
       "      <td>0.7170</td>\n",
       "      <td>0.7987</td>\n",
       "      <td>0.8876</td>\n",
       "    </tr>\n",
       "    <tr>\n",
       "      <th>5</th>\n",
       "      <td>20000</td>\n",
       "      <td>0.7189</td>\n",
       "      <td>0.8030</td>\n",
       "      <td>0.9036</td>\n",
       "    </tr>\n",
       "    <tr>\n",
       "      <th>6</th>\n",
       "      <td>50000</td>\n",
       "      <td>0.7174</td>\n",
       "      <td>0.8091</td>\n",
       "      <td>0.9191</td>\n",
       "    </tr>\n",
       "  </tbody>\n",
       "</table>\n",
       "</div>"
      ],
      "text/plain": [
       "   Num of Training Samples  VAE+logistic  VAE+CNN  Multi-layer CNN\n",
       "0                      100        0.5805   0.6382           0.6950\n",
       "1                     1000        0.6999   0.7678           0.8348\n",
       "2                     2000        0.7042   0.7914           0.8482\n",
       "3                     5000        0.7165   0.7876           0.8683\n",
       "4                    10000        0.7170   0.7987           0.8876\n",
       "5                    20000        0.7189   0.8030           0.9036\n",
       "6                    50000        0.7174   0.8091           0.9191"
      ]
     },
     "execution_count": 33,
     "metadata": {
      "tags": []
     },
     "output_type": "execute_result"
    }
   ],
   "source": [
    "test_acc = [*zip(*res)]\n",
    "\n",
    "acc_samples = pd.DataFrame({\n",
    "    'Num of Training Samples':sample_num_ls,\n",
    "    'VAE+logistic': test_acc[:][0],\n",
    "    'VAE+CNN': test_acc[:][1],\n",
    "    'Multi-layer CNN': test_acc[:][2]\n",
    "})\n",
    "acc_samples_table = pd.DataFrame(acc_samples)\n",
    "acc_samples_table"
   ]
  },
  {
   "cell_type": "code",
   "execution_count": 0,
   "metadata": {
    "colab": {
     "base_uri": "https://localhost:8080/",
     "height": 497
    },
    "colab_type": "code",
    "id": "1fqbHQwT5kA4",
    "outputId": "740785e6-c09c-41f1-be64-227ee383f254"
   },
   "outputs": [
    {
     "data": {
      "image/png": "[encoded data removed]",
      "text/plain": [
       "<Figure size 792x576 with 1 Axes>"
      ]
     },
     "metadata": {
      "tags": []
     },
     "output_type": "display_data"
    }
   ],
   "source": [
    "with sns.color_palette(\"Paired\"):\n",
    "    fig, ax = plt.subplots()\n",
    "    fig.set_size_inches(11, 8)\n",
    "    line_plot=sns.lineplot(x='Num of Training Samples', y='value',hue='variable', \n",
    "                 markers='o', data=pd.melt(acc_samples, ['Num of Training Samples']))\n",
    "    ax.set(ylabel='Test Accuracy')\n",
    "    plt.show()\n"
   ]
  },
  {
   "cell_type": "markdown",
   "metadata": {
    "colab_type": "text",
    "id": "-d8QZwc0M5Fa"
   },
   "source": [
    "From the table above we can see VAE + simple CNN performs better than VAE + logistic regression. Multi-layer CNN always performs the best. However, for small samples, training accuracy and test accuracy for VAE + logistic is quite close for small number of epochs, which means overfitting problem is mitigated by VAE. For VAE+CNN and multi-layer CNN, training and test accuracy have huge differences, sometimes as high as 20%. It is reason-able overfitting phenomena because for small training samples like 100 or 1000,number of parameters of CNN model is far more than number of samples."
   ]
  },
  {
   "cell_type": "markdown",
   "metadata": {
    "colab_type": "text",
    "id": "1yUDFi7BNomx"
   },
   "source": [
    "# Conclusion"
   ]
  },
  {
   "cell_type": "markdown",
   "metadata": {
    "colab_type": "text",
    "id": "8NnhNDPRNwgB"
   },
   "source": [
    "Variational Auto-Encoder is a cool idea based on Bayesian. It uses latent variables to represent image data by neural network. We can infer easily what kind of fashion product is in our reconstructed images, which means VAE does explain much variation of original images. For our encoder and decoder, 4 latent variables are sufficient to get satisfying accuracy for afterward classification which is a huge dimension reduction (from 28*28 = 784 to 4). \n",
    "\n",
    "Random guess accuracy for fashion-mnist data is 10\\%. With only 100 samples, the test accuracy of VAE + logisitc regression can reach 53.4\\%, and VAE + simple CNN can reach 66.2\\%. With 50,000 training samples, VAE + simple CNN can reach 81.4\\% accuracy.\n",
    "\n",
    "Unfortunately, VAEs do have limitations. Obviously they are not quite the state-of-the-art in generative models (blurry reconstructed images). Besides, the accuracy for downstream classification still cannot compare with multi-layer CNN no matter for small samples or large samples. Though logistic regression benefits from the reduction of input dimensions with consistent training and test accuracy, its accuracy is still lower than those using CNN."
   ]
  },
  {
   "cell_type": "code",
   "execution_count": 0,
   "metadata": {
    "colab": {},
    "colab_type": "code",
    "id": "R-r6U1M9V9vE"
   },
   "outputs": [],
   "source": []
  }
 ],
 "metadata": {
  "accelerator": "GPU",
  "colab": {
   "collapsed_sections": [],
   "name": "GR5242_Project.ipynb",
   "provenance": []
  },
  "kernelspec": {
   "display_name": "Python 3",
   "language": "python",
   "name": "python3"
  },
  "language_info": {
   "codemirror_mode": {
    "name": "ipython",
    "version": 3
   },
   "file_extension": ".py",
   "mimetype": "text/x-python",
   "name": "python",
   "nbconvert_exporter": "python",
   "pygments_lexer": "ipython3",
   "version": "3.7.3"
  },
  "toc": {
   "base_numbering": 1,
   "nav_menu": {},
   "number_sections": false,
   "sideBar": true,
   "skip_h1_title": true,
   "title_cell": "Table of Contents",
   "title_sidebar": "Contents",
   "toc_cell": false,
   "toc_position": {},
   "toc_section_display": true,
   "toc_window_display": false
  },
  "varInspector": {
   "cols": {
    "lenName": 16,
    "lenType": 16,
    "lenVar": 40
   },
   "kernels_config": {
    "python": {
     "delete_cmd_postfix": "",
     "delete_cmd_prefix": "del ",
     "library": "var_list.py",
     "varRefreshCmd": "print(var_dic_list())"
    },
    "r": {
     "delete_cmd_postfix": ") ",
     "delete_cmd_prefix": "rm(",
     "library": "var_list.r",
     "varRefreshCmd": "cat(var_dic_list()) "
    }
   },
   "types_to_exclude": [
    "module",
    "function",
    "builtin_function_or_method",
    "instance",
    "_Feature"
   ],
   "window_display": false
  }
 },
 "nbformat": 4,
 "nbformat_minor": 1
}
